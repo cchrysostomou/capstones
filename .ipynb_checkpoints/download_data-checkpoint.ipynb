{
 "cells": [
  {
   "cell_type": "markdown",
   "metadata": {},
   "source": [
    "## Downloading from CDC ##\n",
    "\n",
    "Provides quick commands for grabbing data from CDC site. We will be downloading all Natality us DATA FROM 1994 to 2018.\n",
    "\n",
    "**Source of data can be found here: National Center for Health Statistics (1994-2018)**\n",
    "\n",
    "https://www.cdc.gov/nchs/data_access/vitalstatsonline.htm"
   ]
  },
  {
   "cell_type": "code",
   "execution_count": 9,
   "metadata": {},
   "outputs": [],
   "source": [
    "import requests\n",
    "import urllib.request\n",
    "import urllib\n",
    "import time\n",
    "from bs4 import BeautifulSoup\n",
    "import ftplib"
   ]
  },
  {
   "cell_type": "code",
   "execution_count": 36,
   "metadata": {},
   "outputs": [],
   "source": [
    "url_base = \"ftp.cdc.gov\"\n",
    "ftp = ftplib.FTP(url_base, \"anonymous\")"
   ]
  },
  {
   "cell_type": "code",
   "execution_count": 33,
   "metadata": {
    "scrolled": true
   },
   "outputs": [
    {
     "data": {
      "text/plain": [
       "['pub/Health_Statistics/NCHS/Datasets/DVS/natality/Nat1994us.zip',\n",
       " 'pub/Health_Statistics/NCHS/Datasets/DVS/natality/Nat1995us.zip',\n",
       " 'pub/Health_Statistics/NCHS/Datasets/DVS/natality/Nat1996us.zip',\n",
       " 'pub/Health_Statistics/NCHS/Datasets/DVS/natality/Nat1997us.zip',\n",
       " 'pub/Health_Statistics/NCHS/Datasets/DVS/natality/Nat1998us.zip',\n",
       " 'pub/Health_Statistics/NCHS/Datasets/DVS/natality/Nat1999us.zip',\n",
       " 'pub/Health_Statistics/NCHS/Datasets/DVS/natality/Nat2000us.zip',\n",
       " 'pub/Health_Statistics/NCHS/Datasets/DVS/natality/Nat2001us.zip',\n",
       " 'pub/Health_Statistics/NCHS/Datasets/DVS/natality/Nat2002us.zip',\n",
       " 'pub/Health_Statistics/NCHS/Datasets/DVS/natality/Nat2003us.zip',\n",
       " 'pub/Health_Statistics/NCHS/Datasets/DVS/natality/Nat2004us.zip',\n",
       " 'pub/Health_Statistics/NCHS/Datasets/DVS/natality/Nat2005us.zip',\n",
       " 'pub/Health_Statistics/NCHS/Datasets/DVS/natality/Nat2006us.zip',\n",
       " 'pub/Health_Statistics/NCHS/Datasets/DVS/natality/Nat2007us.zip',\n",
       " 'pub/Health_Statistics/NCHS/Datasets/DVS/natality/Nat2008us.zip',\n",
       " 'pub/Health_Statistics/NCHS/Datasets/DVS/natality/Nat2009us.zip',\n",
       " 'pub/Health_Statistics/NCHS/Datasets/DVS/natality/Nat2010us.zip',\n",
       " 'pub/Health_Statistics/NCHS/Datasets/DVS/natality/Nat2011us.zip',\n",
       " 'pub/Health_Statistics/NCHS/Datasets/DVS/natality/Nat2012us.zip',\n",
       " 'pub/Health_Statistics/NCHS/Datasets/DVS/natality/Nat2013us.zip',\n",
       " 'pub/Health_Statistics/NCHS/Datasets/DVS/natality/Nat2014us.zip',\n",
       " 'pub/Health_Statistics/NCHS/Datasets/DVS/natality/Nat2015us.zip',\n",
       " 'pub/Health_Statistics/NCHS/Datasets/DVS/natality/Nat2016us.zip',\n",
       " 'pub/Health_Statistics/NCHS/Datasets/DVS/natality/Nat2018us.zip']"
      ]
     },
     "execution_count": 33,
     "metadata": {},
     "output_type": "execute_result"
    }
   ],
   "source": [
    "files_to_dl = [\n",
    "    f for f in ftp.nlst('pub/Health_Statistics/NCHS/Datasets/DVS/natality') if f.endswith('us.zip')\n",
    "]\n",
    "files_to_dl"
   ]
  },
  {
   "cell_type": "code",
   "execution_count": 37,
   "metadata": {
    "scrolled": true
   },
   "outputs": [
    {
     "name": "stdout",
     "output_type": "stream",
     "text": [
      "DLIng pub/Health_Statistics/NCHS/Datasets/DVS/natality/Nat1994us.zip\n",
      "done\n",
      "DLIng pub/Health_Statistics/NCHS/Datasets/DVS/natality/Nat1995us.zip\n",
      "done\n",
      "DLIng pub/Health_Statistics/NCHS/Datasets/DVS/natality/Nat1996us.zip\n",
      "done\n",
      "DLIng pub/Health_Statistics/NCHS/Datasets/DVS/natality/Nat1997us.zip\n",
      "done\n",
      "DLIng pub/Health_Statistics/NCHS/Datasets/DVS/natality/Nat1998us.zip\n",
      "done\n",
      "DLIng pub/Health_Statistics/NCHS/Datasets/DVS/natality/Nat1999us.zip\n",
      "done\n",
      "DLIng pub/Health_Statistics/NCHS/Datasets/DVS/natality/Nat2000us.zip\n",
      "done\n",
      "DLIng pub/Health_Statistics/NCHS/Datasets/DVS/natality/Nat2001us.zip\n",
      "done\n",
      "DLIng pub/Health_Statistics/NCHS/Datasets/DVS/natality/Nat2002us.zip\n",
      "done\n",
      "DLIng pub/Health_Statistics/NCHS/Datasets/DVS/natality/Nat2003us.zip\n",
      "done\n",
      "DLIng pub/Health_Statistics/NCHS/Datasets/DVS/natality/Nat2004us.zip\n",
      "done\n",
      "DLIng pub/Health_Statistics/NCHS/Datasets/DVS/natality/Nat2005us.zip\n",
      "done\n",
      "DLIng pub/Health_Statistics/NCHS/Datasets/DVS/natality/Nat2006us.zip\n",
      "done\n",
      "DLIng pub/Health_Statistics/NCHS/Datasets/DVS/natality/Nat2007us.zip\n",
      "done\n",
      "DLIng pub/Health_Statistics/NCHS/Datasets/DVS/natality/Nat2008us.zip\n",
      "done\n",
      "DLIng pub/Health_Statistics/NCHS/Datasets/DVS/natality/Nat2009us.zip\n",
      "done\n",
      "DLIng pub/Health_Statistics/NCHS/Datasets/DVS/natality/Nat2010us.zip\n",
      "done\n",
      "DLIng pub/Health_Statistics/NCHS/Datasets/DVS/natality/Nat2011us.zip\n",
      "done\n",
      "DLIng pub/Health_Statistics/NCHS/Datasets/DVS/natality/Nat2012us.zip\n",
      "done\n",
      "DLIng pub/Health_Statistics/NCHS/Datasets/DVS/natality/Nat2013us.zip\n",
      "done\n",
      "DLIng pub/Health_Statistics/NCHS/Datasets/DVS/natality/Nat2014us.zip\n",
      "done\n",
      "DLIng pub/Health_Statistics/NCHS/Datasets/DVS/natality/Nat2015us.zip\n",
      "done\n",
      "DLIng pub/Health_Statistics/NCHS/Datasets/DVS/natality/Nat2016us.zip\n",
      "done\n",
      "DLIng pub/Health_Statistics/NCHS/Datasets/DVS/natality/Nat2018us.zip\n",
      "done\n"
     ]
    }
   ],
   "source": [
    "import shutil\n",
    "import urllib.request as request\n",
    "from contextlib import closing\n",
    "import os\n",
    "\n",
    "for f in files_to_dl:\n",
    "    print('DLIng', f)\n",
    "    with closing(request.urlopen(os.path.join('ftp://' + url_base, f))) as r:\n",
    "        with open(os.path.join('/mnt/nas/natality', os.path.basename(f)), 'wb') as f:\n",
    "            shutil.copyfileobj(r, f)\n",
    "    print('done')"
   ]
  },
  {
   "cell_type": "markdown",
   "metadata": {},
   "source": [
    "**Download fetal death info**\n",
    "\n"
   ]
  },
  {
   "cell_type": "code",
   "execution_count": 45,
   "metadata": {
    "scrolled": true
   },
   "outputs": [],
   "source": [
    "fetaldeath_page = 'pub/Health_Statistics/NCHS/Datasets/DVS/fetaldeathus'\n",
    "ftp = ftplib.FTP(url_base, \"anonymous\")\n",
    "files_to_dl = ftp.nlst(fetaldeath_page)"
   ]
  },
  {
   "cell_type": "code",
   "execution_count": 47,
   "metadata": {
    "scrolled": true
   },
   "outputs": [
    {
     "name": "stdout",
     "output_type": "stream",
     "text": [
      "DLIng pub/Health_Statistics/NCHS/Datasets/DVS/fetaldeathus/Fetal1982US.zip\n",
      "done\n",
      "DLIng pub/Health_Statistics/NCHS/Datasets/DVS/fetaldeathus/Fetal1983US.zip\n",
      "done\n",
      "DLIng pub/Health_Statistics/NCHS/Datasets/DVS/fetaldeathus/Fetal1984US.zip\n",
      "done\n",
      "DLIng pub/Health_Statistics/NCHS/Datasets/DVS/fetaldeathus/Fetal1985US.zip\n",
      "done\n",
      "DLIng pub/Health_Statistics/NCHS/Datasets/DVS/fetaldeathus/Fetal1986US.zip\n",
      "done\n",
      "DLIng pub/Health_Statistics/NCHS/Datasets/DVS/fetaldeathus/Fetal1987US.zip\n",
      "done\n",
      "DLIng pub/Health_Statistics/NCHS/Datasets/DVS/fetaldeathus/Fetal1988US.zip\n",
      "done\n",
      "DLIng pub/Health_Statistics/NCHS/Datasets/DVS/fetaldeathus/Fetal1989US.zip\n",
      "done\n",
      "DLIng pub/Health_Statistics/NCHS/Datasets/DVS/fetaldeathus/Fetal1990US.zip\n",
      "done\n",
      "DLIng pub/Health_Statistics/NCHS/Datasets/DVS/fetaldeathus/Fetal1991US.zip\n",
      "done\n",
      "DLIng pub/Health_Statistics/NCHS/Datasets/DVS/fetaldeathus/Fetal1992US.zip\n",
      "done\n",
      "DLIng pub/Health_Statistics/NCHS/Datasets/DVS/fetaldeathus/Fetal1993US.zip\n",
      "done\n",
      "DLIng pub/Health_Statistics/NCHS/Datasets/DVS/fetaldeathus/Fetal1994US.zip\n",
      "done\n",
      "DLIng pub/Health_Statistics/NCHS/Datasets/DVS/fetaldeathus/Fetal1995US.zip\n",
      "done\n",
      "DLIng pub/Health_Statistics/NCHS/Datasets/DVS/fetaldeathus/Fetal1996US.zip\n",
      "done\n",
      "DLIng pub/Health_Statistics/NCHS/Datasets/DVS/fetaldeathus/Fetal1997US.zip\n",
      "done\n",
      "DLIng pub/Health_Statistics/NCHS/Datasets/DVS/fetaldeathus/Fetal1998US.zip\n",
      "done\n",
      "DLIng pub/Health_Statistics/NCHS/Datasets/DVS/fetaldeathus/Fetal1999US.zip\n",
      "done\n",
      "DLIng pub/Health_Statistics/NCHS/Datasets/DVS/fetaldeathus/Fetal2000US.zip\n",
      "done\n",
      "DLIng pub/Health_Statistics/NCHS/Datasets/DVS/fetaldeathus/Fetal2001US.zip\n",
      "done\n",
      "DLIng pub/Health_Statistics/NCHS/Datasets/DVS/fetaldeathus/Fetal2002US.zip\n",
      "done\n",
      "DLIng pub/Health_Statistics/NCHS/Datasets/DVS/fetaldeathus/Fetal2003US.zip\n",
      "done\n",
      "DLIng pub/Health_Statistics/NCHS/Datasets/DVS/fetaldeathus/Fetal2004US.zip\n",
      "done\n",
      "DLIng pub/Health_Statistics/NCHS/Datasets/DVS/fetaldeathus/Fetal2005US.zip\n",
      "done\n",
      "DLIng pub/Health_Statistics/NCHS/Datasets/DVS/fetaldeathus/Fetal2006US.zip\n",
      "done\n",
      "DLIng pub/Health_Statistics/NCHS/Datasets/DVS/fetaldeathus/Fetal2007US.zip\n",
      "done\n",
      "DLIng pub/Health_Statistics/NCHS/Datasets/DVS/fetaldeathus/Fetal2008US.zip\n",
      "done\n",
      "DLIng pub/Health_Statistics/NCHS/Datasets/DVS/fetaldeathus/Fetal2009US.zip\n",
      "done\n",
      "DLIng pub/Health_Statistics/NCHS/Datasets/DVS/fetaldeathus/Fetal2010US.zip\n",
      "done\n",
      "DLIng pub/Health_Statistics/NCHS/Datasets/DVS/fetaldeathus/Fetal2011US.zip\n",
      "done\n",
      "DLIng pub/Health_Statistics/NCHS/Datasets/DVS/fetaldeathus/Fetal2012US.zip\n",
      "done\n",
      "DLIng pub/Health_Statistics/NCHS/Datasets/DVS/fetaldeathus/Fetal2013US.zip\n",
      "done\n",
      "DLIng pub/Health_Statistics/NCHS/Datasets/DVS/fetaldeathus/Fetal2014US.zip\n",
      "done\n",
      "DLIng pub/Health_Statistics/NCHS/Datasets/DVS/fetaldeathus/Fetal2014US_COD.zip\n",
      "done\n",
      "DLIng pub/Health_Statistics/NCHS/Datasets/DVS/fetaldeathus/Fetal2015US.zip\n",
      "done\n",
      "DLIng pub/Health_Statistics/NCHS/Datasets/DVS/fetaldeathus/Fetal2015US_COD.zip\n",
      "done\n",
      "DLIng pub/Health_Statistics/NCHS/Datasets/DVS/fetaldeathus/Fetal2016US.zip\n",
      "done\n",
      "DLIng pub/Health_Statistics/NCHS/Datasets/DVS/fetaldeathus/Fetal2016US_COD.zip\n",
      "done\n",
      "DLIng pub/Health_Statistics/NCHS/Datasets/DVS/fetaldeathus/Fetal2017US.zip\n",
      "done\n",
      "DLIng pub/Health_Statistics/NCHS/Datasets/DVS/fetaldeathus/Fetal2017US_COD.zip\n",
      "done\n"
     ]
    }
   ],
   "source": [
    "for f in files_to_dl:\n",
    "    print('DLIng', f)\n",
    "    with closing(request.urlopen(os.path.join('ftp://' + url_base, f))) as r:\n",
    "        with open(os.path.join('/mnt/nas/natality', os.path.basename(f)), 'wb') as f:\n",
    "            shutil.copyfileobj(r, f)\n",
    "    print('done')"
   ]
  },
  {
   "cell_type": "markdown",
   "metadata": {},
   "source": [
    "**Download dictionary to map file**"
   ]
  },
  {
   "cell_type": "code",
   "execution_count": 95,
   "metadata": {
    "scrolled": true
   },
   "outputs": [],
   "source": [
    "url = 'http://data.nber.org/natality'\n",
    "import re\n",
    "html_page = urllib.request.urlopen(url)\n",
    "soup = BeautifulSoup(html_page)\n",
    "subpages = []\n",
    "for link in soup.findAll('a', attrs={'href': re.compile(\"[12][09][0-9][0-9]/\")}):\n",
    "    subpages.append(os.path.join(url, link.get('href')))"
   ]
  },
  {
   "cell_type": "code",
   "execution_count": 96,
   "metadata": {},
   "outputs": [],
   "source": [
    "dct_html = []\n",
    "for s in subpages:\n",
    "    html_page = urllib.request.urlopen(s)\n",
    "    soup = BeautifulSoup(html_page)\n",
    "    count = 0\n",
    "    for link in soup.findAll('a', attrs={'href': re.compile(\".dct\")}):\n",
    "        if 'err' not in link.get('href'):\n",
    "            assert count == 0, s\n",
    "            html2 = urllib.request.urlopen(os.path.join(s, link.get('href')))\n",
    "            count += 1\n",
    "            txt = BeautifulSoup(html2)\n",
    "            with open(os.path.join('/mnt/nas/natality', link.get('href')), 'w') as o:\n",
    "                o.write(str(txt))"
   ]
  },
  {
   "cell_type": "markdown",
   "metadata": {},
   "source": [
    "**Process and extract zip files**\n",
    "\n",
    "1. Nat*.zip => natality data\n",
    "2. Fetal*.zip => fetality data\n",
    "3. *.dct => dictionary data"
   ]
  },
  {
   "cell_type": "code",
   "execution_count": null,
   "metadata": {},
   "outputs": [
    {
     "name": "stdout",
     "output_type": "stream",
     "text": [
      "VS99FETL.DETUSPUB already exists!\n",
      "Nat03us.dat already exists!\n",
      "Fetal2015US.txt already exists!\n",
      "VS95FETL.DETUSPUB already exists!\n",
      "VS03FETL.DETUSPUB already exists!\n",
      "unzipping  Nat2015us.zip Nat2015PublicUS.c20160517.r20160907.txt\n",
      "unzipping  Nat1999us.zip Natl99pb.us\n"
     ]
    },
    {
     "name": "stderr",
     "output_type": "stream",
     "text": [
      "/home/costas/Documents/github/capstones/natal_env/lib/python3.5/site-packages/ipykernel_launcher.py:36: UserWarning: ('failed unzipping', 'Nat2015us.zip', 'Nat2015PublicUS.c20160517.r20160907.txt')\n"
     ]
    }
   ],
   "source": [
    "import zipfile\n",
    "import warnings\n",
    "for f in os.listdir('/mnt/nas/natality'):\n",
    "    if os.path.isdir(os.path.join('/mnt/nas/natality', f)):\n",
    "        continue    \n",
    "    is_dct = False\n",
    "    if f.startswith('Fetal'):\n",
    "        folder = f.split('Fetal')[1].split('US')[0]\n",
    "        year = int(folder)        \n",
    "    elif f.endswith('.dct'):        \n",
    "        folder = f.split('natl')[1].split('.dct')[0]\n",
    "        is_dct = True\n",
    "        year = int(folder)\n",
    "    elif f.startswith('Nat'):\n",
    "        folder = f.split('Nat')[1].split('us')[0]\n",
    "        year = int(folder)\n",
    "    else:\n",
    "        raise Exception(f)\n",
    "    \n",
    "    if not os.path.isdir(os.path.join('/mnt/nas/natality', folder)):\n",
    "        os.mkdir(os.path.join('/mnt/nas/natality', folder))\n",
    "    \n",
    "    if is_dct:\n",
    "        shutil.copy(os.path.join('/mnt/nas/natality', f), os.path.join('/mnt/nas/natality', folder, f))\n",
    "    elif f.lower().endswith('.zip'):        \n",
    "        with zipfile.ZipFile(os.path.join('/mnt/nas/natality', f), 'r') as zip_ref:\n",
    "            for f2 in zip_ref.filelist:\n",
    "                if os.path.isfile(os.path.join('/mnt/nas/natality', folder, f2.filename)):\n",
    "                    print(f2.filename, 'already exists!')\n",
    "                    continue\n",
    "                else:                    \n",
    "                    print('unzipping ', f, f2.filename)\n",
    "                    try:\n",
    "                        zip_ref.extract(f2, os.path.join('/mnt/nas/natality/', folder))            \n",
    "                    except NotImplementedError as e:\n",
    "                        warnings.warn(str(('failed unzipping', f, f2.filename)))\n",
    "        \n",
    "        \n",
    "    "
   ]
  },
  {
   "cell_type": "code",
   "execution_count": 127,
   "metadata": {},
   "outputs": [
    {
     "data": {
      "text/plain": [
       "'1999'"
      ]
     },
     "execution_count": 127,
     "metadata": {},
     "output_type": "execute_result"
    }
   ],
   "source": [
    "folder"
   ]
  }
 ],
 "metadata": {
  "kernelspec": {
   "display_name": "Python 3",
   "language": "python",
   "name": "python3"
  },
  "language_info": {
   "codemirror_mode": {
    "name": "ipython",
    "version": 3
   },
   "file_extension": ".py",
   "mimetype": "text/x-python",
   "name": "python",
   "nbconvert_exporter": "python",
   "pygments_lexer": "ipython3",
   "version": "3.5.2"
  }
 },
 "nbformat": 4,
 "nbformat_minor": 2
}
