{
 "cells": [
  {
   "cell_type": "markdown",
   "metadata": {},
   "source": [
    "## Downloading from CDC ##\n",
    "\n",
    "Provides quick commands for grabbing data from CDC site. We will be downloading all Natality us DATA FROM 1994 to 2018.\n",
    "\n",
    "**Source of data can be found here: National Center for Health Statistics (1994-2018)**\n",
    "\n",
    "https://www.cdc.gov/nchs/data_access/vitalstatsonline.htm"
   ]
  },
  {
   "cell_type": "code",
   "execution_count": 9,
   "metadata": {},
   "outputs": [],
   "source": [
    "import requests\n",
    "import urllib.request\n",
    "import urllib\n",
    "import time\n",
    "from bs4 import BeautifulSoup\n",
    "import ftplib"
   ]
  },
  {
   "cell_type": "code",
   "execution_count": 36,
   "metadata": {},
   "outputs": [],
   "source": [
    "url_base = \"ftp.cdc.gov\"\n",
    "ftp = ftplib.FTP(url_base, \"anonymous\")"
   ]
  },
  {
   "cell_type": "code",
   "execution_count": 33,
   "metadata": {
    "scrolled": true
   },
   "outputs": [
    {
     "data": {
      "text/plain": [
       "['pub/Health_Statistics/NCHS/Datasets/DVS/natality/Nat1994us.zip',\n",
       " 'pub/Health_Statistics/NCHS/Datasets/DVS/natality/Nat1995us.zip',\n",
       " 'pub/Health_Statistics/NCHS/Datasets/DVS/natality/Nat1996us.zip',\n",
       " 'pub/Health_Statistics/NCHS/Datasets/DVS/natality/Nat1997us.zip',\n",
       " 'pub/Health_Statistics/NCHS/Datasets/DVS/natality/Nat1998us.zip',\n",
       " 'pub/Health_Statistics/NCHS/Datasets/DVS/natality/Nat1999us.zip',\n",
       " 'pub/Health_Statistics/NCHS/Datasets/DVS/natality/Nat2000us.zip',\n",
       " 'pub/Health_Statistics/NCHS/Datasets/DVS/natality/Nat2001us.zip',\n",
       " 'pub/Health_Statistics/NCHS/Datasets/DVS/natality/Nat2002us.zip',\n",
       " 'pub/Health_Statistics/NCHS/Datasets/DVS/natality/Nat2003us.zip',\n",
       " 'pub/Health_Statistics/NCHS/Datasets/DVS/natality/Nat2004us.zip',\n",
       " 'pub/Health_Statistics/NCHS/Datasets/DVS/natality/Nat2005us.zip',\n",
       " 'pub/Health_Statistics/NCHS/Datasets/DVS/natality/Nat2006us.zip',\n",
       " 'pub/Health_Statistics/NCHS/Datasets/DVS/natality/Nat2007us.zip',\n",
       " 'pub/Health_Statistics/NCHS/Datasets/DVS/natality/Nat2008us.zip',\n",
       " 'pub/Health_Statistics/NCHS/Datasets/DVS/natality/Nat2009us.zip',\n",
       " 'pub/Health_Statistics/NCHS/Datasets/DVS/natality/Nat2010us.zip',\n",
       " 'pub/Health_Statistics/NCHS/Datasets/DVS/natality/Nat2011us.zip',\n",
       " 'pub/Health_Statistics/NCHS/Datasets/DVS/natality/Nat2012us.zip',\n",
       " 'pub/Health_Statistics/NCHS/Datasets/DVS/natality/Nat2013us.zip',\n",
       " 'pub/Health_Statistics/NCHS/Datasets/DVS/natality/Nat2014us.zip',\n",
       " 'pub/Health_Statistics/NCHS/Datasets/DVS/natality/Nat2015us.zip',\n",
       " 'pub/Health_Statistics/NCHS/Datasets/DVS/natality/Nat2016us.zip',\n",
       " 'pub/Health_Statistics/NCHS/Datasets/DVS/natality/Nat2018us.zip']"
      ]
     },
     "execution_count": 33,
     "metadata": {},
     "output_type": "execute_result"
    }
   ],
   "source": [
    "files_to_dl = [\n",
    "    f for f in ftp.nlst('pub/Health_Statistics/NCHS/Datasets/DVS/natality') if f.endswith('us.zip')\n",
    "]\n",
    "files_to_dl"
   ]
  },
  {
   "cell_type": "code",
   "execution_count": 37,
   "metadata": {
    "scrolled": true
   },
   "outputs": [
    {
     "name": "stdout",
     "output_type": "stream",
     "text": [
      "DLIng pub/Health_Statistics/NCHS/Datasets/DVS/natality/Nat1994us.zip\n",
      "done\n",
      "DLIng pub/Health_Statistics/NCHS/Datasets/DVS/natality/Nat1995us.zip\n",
      "done\n",
      "DLIng pub/Health_Statistics/NCHS/Datasets/DVS/natality/Nat1996us.zip\n",
      "done\n",
      "DLIng pub/Health_Statistics/NCHS/Datasets/DVS/natality/Nat1997us.zip\n",
      "done\n",
      "DLIng pub/Health_Statistics/NCHS/Datasets/DVS/natality/Nat1998us.zip\n",
      "done\n",
      "DLIng pub/Health_Statistics/NCHS/Datasets/DVS/natality/Nat1999us.zip\n",
      "done\n",
      "DLIng pub/Health_Statistics/NCHS/Datasets/DVS/natality/Nat2000us.zip\n",
      "done\n",
      "DLIng pub/Health_Statistics/NCHS/Datasets/DVS/natality/Nat2001us.zip\n",
      "done\n",
      "DLIng pub/Health_Statistics/NCHS/Datasets/DVS/natality/Nat2002us.zip\n",
      "done\n",
      "DLIng pub/Health_Statistics/NCHS/Datasets/DVS/natality/Nat2003us.zip\n",
      "done\n",
      "DLIng pub/Health_Statistics/NCHS/Datasets/DVS/natality/Nat2004us.zip\n",
      "done\n",
      "DLIng pub/Health_Statistics/NCHS/Datasets/DVS/natality/Nat2005us.zip\n",
      "done\n",
      "DLIng pub/Health_Statistics/NCHS/Datasets/DVS/natality/Nat2006us.zip\n",
      "done\n",
      "DLIng pub/Health_Statistics/NCHS/Datasets/DVS/natality/Nat2007us.zip\n",
      "done\n",
      "DLIng pub/Health_Statistics/NCHS/Datasets/DVS/natality/Nat2008us.zip\n",
      "done\n",
      "DLIng pub/Health_Statistics/NCHS/Datasets/DVS/natality/Nat2009us.zip\n",
      "done\n",
      "DLIng pub/Health_Statistics/NCHS/Datasets/DVS/natality/Nat2010us.zip\n",
      "done\n",
      "DLIng pub/Health_Statistics/NCHS/Datasets/DVS/natality/Nat2011us.zip\n",
      "done\n",
      "DLIng pub/Health_Statistics/NCHS/Datasets/DVS/natality/Nat2012us.zip\n",
      "done\n",
      "DLIng pub/Health_Statistics/NCHS/Datasets/DVS/natality/Nat2013us.zip\n",
      "done\n",
      "DLIng pub/Health_Statistics/NCHS/Datasets/DVS/natality/Nat2014us.zip\n",
      "done\n",
      "DLIng pub/Health_Statistics/NCHS/Datasets/DVS/natality/Nat2015us.zip\n",
      "done\n",
      "DLIng pub/Health_Statistics/NCHS/Datasets/DVS/natality/Nat2016us.zip\n",
      "done\n",
      "DLIng pub/Health_Statistics/NCHS/Datasets/DVS/natality/Nat2018us.zip\n",
      "done\n"
     ]
    }
   ],
   "source": [
    "import shutil\n",
    "import urllib.request as request\n",
    "from contextlib import closing\n",
    "import os\n",
    "\n",
    "for f in files_to_dl:\n",
    "    print('DLIng', f)\n",
    "    with closing(request.urlopen(os.path.join('ftp://' + url_base, f))) as r:\n",
    "        with open(os.path.join('/mnt/nas/natality', os.path.basename(f)), 'wb') as f:\n",
    "            shutil.copyfileobj(r, f)\n",
    "    print('done')"
   ]
  },
  {
   "cell_type": "markdown",
   "metadata": {},
   "source": [
    "**Download fetal death info**\n",
    "\n"
   ]
  },
  {
   "cell_type": "code",
   "execution_count": 45,
   "metadata": {
    "scrolled": true
   },
   "outputs": [],
   "source": [
    "fetaldeath_page = 'pub/Health_Statistics/NCHS/Datasets/DVS/fetaldeathus'\n",
    "ftp = ftplib.FTP(url_base, \"anonymous\")\n",
    "files_to_dl = ftp.nlst(fetaldeath_page)"
   ]
  },
  {
   "cell_type": "code",
   "execution_count": 47,
   "metadata": {
    "scrolled": true
   },
   "outputs": [
    {
     "name": "stdout",
     "output_type": "stream",
     "text": [
      "DLIng pub/Health_Statistics/NCHS/Datasets/DVS/fetaldeathus/Fetal1982US.zip\n",
      "done\n",
      "DLIng pub/Health_Statistics/NCHS/Datasets/DVS/fetaldeathus/Fetal1983US.zip\n",
      "done\n",
      "DLIng pub/Health_Statistics/NCHS/Datasets/DVS/fetaldeathus/Fetal1984US.zip\n",
      "done\n",
      "DLIng pub/Health_Statistics/NCHS/Datasets/DVS/fetaldeathus/Fetal1985US.zip\n",
      "done\n",
      "DLIng pub/Health_Statistics/NCHS/Datasets/DVS/fetaldeathus/Fetal1986US.zip\n",
      "done\n",
      "DLIng pub/Health_Statistics/NCHS/Datasets/DVS/fetaldeathus/Fetal1987US.zip\n",
      "done\n",
      "DLIng pub/Health_Statistics/NCHS/Datasets/DVS/fetaldeathus/Fetal1988US.zip\n",
      "done\n",
      "DLIng pub/Health_Statistics/NCHS/Datasets/DVS/fetaldeathus/Fetal1989US.zip\n",
      "done\n",
      "DLIng pub/Health_Statistics/NCHS/Datasets/DVS/fetaldeathus/Fetal1990US.zip\n",
      "done\n",
      "DLIng pub/Health_Statistics/NCHS/Datasets/DVS/fetaldeathus/Fetal1991US.zip\n",
      "done\n",
      "DLIng pub/Health_Statistics/NCHS/Datasets/DVS/fetaldeathus/Fetal1992US.zip\n",
      "done\n",
      "DLIng pub/Health_Statistics/NCHS/Datasets/DVS/fetaldeathus/Fetal1993US.zip\n",
      "done\n",
      "DLIng pub/Health_Statistics/NCHS/Datasets/DVS/fetaldeathus/Fetal1994US.zip\n",
      "done\n",
      "DLIng pub/Health_Statistics/NCHS/Datasets/DVS/fetaldeathus/Fetal1995US.zip\n",
      "done\n",
      "DLIng pub/Health_Statistics/NCHS/Datasets/DVS/fetaldeathus/Fetal1996US.zip\n",
      "done\n",
      "DLIng pub/Health_Statistics/NCHS/Datasets/DVS/fetaldeathus/Fetal1997US.zip\n",
      "done\n",
      "DLIng pub/Health_Statistics/NCHS/Datasets/DVS/fetaldeathus/Fetal1998US.zip\n",
      "done\n",
      "DLIng pub/Health_Statistics/NCHS/Datasets/DVS/fetaldeathus/Fetal1999US.zip\n",
      "done\n",
      "DLIng pub/Health_Statistics/NCHS/Datasets/DVS/fetaldeathus/Fetal2000US.zip\n",
      "done\n",
      "DLIng pub/Health_Statistics/NCHS/Datasets/DVS/fetaldeathus/Fetal2001US.zip\n",
      "done\n",
      "DLIng pub/Health_Statistics/NCHS/Datasets/DVS/fetaldeathus/Fetal2002US.zip\n",
      "done\n",
      "DLIng pub/Health_Statistics/NCHS/Datasets/DVS/fetaldeathus/Fetal2003US.zip\n",
      "done\n",
      "DLIng pub/Health_Statistics/NCHS/Datasets/DVS/fetaldeathus/Fetal2004US.zip\n",
      "done\n",
      "DLIng pub/Health_Statistics/NCHS/Datasets/DVS/fetaldeathus/Fetal2005US.zip\n",
      "done\n",
      "DLIng pub/Health_Statistics/NCHS/Datasets/DVS/fetaldeathus/Fetal2006US.zip\n",
      "done\n",
      "DLIng pub/Health_Statistics/NCHS/Datasets/DVS/fetaldeathus/Fetal2007US.zip\n",
      "done\n",
      "DLIng pub/Health_Statistics/NCHS/Datasets/DVS/fetaldeathus/Fetal2008US.zip\n",
      "done\n",
      "DLIng pub/Health_Statistics/NCHS/Datasets/DVS/fetaldeathus/Fetal2009US.zip\n",
      "done\n",
      "DLIng pub/Health_Statistics/NCHS/Datasets/DVS/fetaldeathus/Fetal2010US.zip\n",
      "done\n",
      "DLIng pub/Health_Statistics/NCHS/Datasets/DVS/fetaldeathus/Fetal2011US.zip\n",
      "done\n",
      "DLIng pub/Health_Statistics/NCHS/Datasets/DVS/fetaldeathus/Fetal2012US.zip\n",
      "done\n",
      "DLIng pub/Health_Statistics/NCHS/Datasets/DVS/fetaldeathus/Fetal2013US.zip\n",
      "done\n",
      "DLIng pub/Health_Statistics/NCHS/Datasets/DVS/fetaldeathus/Fetal2014US.zip\n",
      "done\n",
      "DLIng pub/Health_Statistics/NCHS/Datasets/DVS/fetaldeathus/Fetal2014US_COD.zip\n",
      "done\n",
      "DLIng pub/Health_Statistics/NCHS/Datasets/DVS/fetaldeathus/Fetal2015US.zip\n",
      "done\n",
      "DLIng pub/Health_Statistics/NCHS/Datasets/DVS/fetaldeathus/Fetal2015US_COD.zip\n",
      "done\n",
      "DLIng pub/Health_Statistics/NCHS/Datasets/DVS/fetaldeathus/Fetal2016US.zip\n",
      "done\n",
      "DLIng pub/Health_Statistics/NCHS/Datasets/DVS/fetaldeathus/Fetal2016US_COD.zip\n",
      "done\n",
      "DLIng pub/Health_Statistics/NCHS/Datasets/DVS/fetaldeathus/Fetal2017US.zip\n",
      "done\n",
      "DLIng pub/Health_Statistics/NCHS/Datasets/DVS/fetaldeathus/Fetal2017US_COD.zip\n",
      "done\n"
     ]
    }
   ],
   "source": [
    "for f in files_to_dl:\n",
    "    print('DLIng', f)\n",
    "    with closing(request.urlopen(os.path.join('ftp://' + url_base, f))) as r:\n",
    "        with open(os.path.join('/mnt/nas/natality', os.path.basename(f)), 'wb') as f:\n",
    "            shutil.copyfileobj(r, f)\n",
    "    print('done')"
   ]
  },
  {
   "cell_type": "markdown",
   "metadata": {},
   "source": [
    "**Download dictionary to map file**"
   ]
  },
  {
   "cell_type": "code",
   "execution_count": 95,
   "metadata": {
    "scrolled": true
   },
   "outputs": [],
   "source": [
    "url = 'http://data.nber.org/natality'\n",
    "import re\n",
    "html_page = urllib.request.urlopen(url)\n",
    "soup = BeautifulSoup(html_page)\n",
    "subpages = []\n",
    "for link in soup.findAll('a', attrs={'href': re.compile(\"[12][09][0-9][0-9]/\")}):\n",
    "    subpages.append(os.path.join(url, link.get('href')))"
   ]
  },
  {
   "cell_type": "code",
   "execution_count": 96,
   "metadata": {},
   "outputs": [],
   "source": [
    "dct_html = []\n",
    "for s in subpages:\n",
    "    html_page = urllib.request.urlopen(s)\n",
    "    soup = BeautifulSoup(html_page)\n",
    "    count = 0\n",
    "    for link in soup.findAll('a', attrs={'href': re.compile(\".dct\")}):\n",
    "        if 'err' not in link.get('href'):\n",
    "            assert count == 0, s\n",
    "            html2 = urllib.request.urlopen(os.path.join(s, link.get('href')))\n",
    "            count += 1\n",
    "            txt = BeautifulSoup(html2)\n",
    "            with open(os.path.join('/mnt/nas/natality', link.get('href')), 'w') as o:\n",
    "                o.write(str(txt))"
   ]
  },
  {
   "cell_type": "markdown",
   "metadata": {},
   "source": [
    "**Process and extract zip files**\n",
    "\n",
    "1. Nat*.zip => natality data\n",
    "2. Fetal*.zip => fetality data\n",
    "3. *.dct => dictionary data"
   ]
  },
  {
   "cell_type": "code",
   "execution_count": 128,
   "metadata": {},
   "outputs": [
    {
     "name": "stdout",
     "output_type": "stream",
     "text": [
      "VS99FETL.DETUSPUB already exists!\n",
      "Nat03us.dat already exists!\n",
      "Fetal2015US.txt already exists!\n",
      "VS95FETL.DETUSPUB already exists!\n",
      "VS03FETL.DETUSPUB already exists!\n",
      "unzipping  Nat2015us.zip Nat2015PublicUS.c20160517.r20160907.txt\n",
      "unzipping  Nat1999us.zip Natl99pb.us\n"
     ]
    },
    {
     "name": "stderr",
     "output_type": "stream",
     "text": [
      "/home/costas/Documents/github/capstones/natal_env/lib/python3.5/site-packages/ipykernel_launcher.py:36: UserWarning: ('failed unzipping', 'Nat2015us.zip', 'Nat2015PublicUS.c20160517.r20160907.txt')\n"
     ]
    },
    {
     "name": "stdout",
     "output_type": "stream",
     "text": [
      "unzipping  Fetal1983US.zip VS83FETL.DETUSPUB\n",
      "unzipping  Nat1995us.zip Nat95us.dat\n",
      "unzipping  Fetal1998US.zip VS98FETL.DETUSPUB\n",
      "unzipping  Fetal2014US.zip VS14FetalPubUS_NEW.txt\n",
      "unzipping  Nat2002us.zip NAT02US.PB\n",
      "unzipping  Fetal1994US.zip VS94FETL.DETUSPUB\n",
      "unzipping  Nat2014us.zip Nat2014PublicUS.c20150514.r20151022.txt\n",
      "unzipping  Fetal2002US.zip VS02FETL.DETUSPUB\n",
      "unzipping  Nat1998us.zip Natl98us.pb\n",
      "unzipping  Nat1994us.zip Natl94pb.us\n",
      "unzipping  Fetal1982US.zip VS82FETL.DETUSPUB\n",
      "unzipping  Nat2018us.zip Nat2018PublicUS.c20190509.r20190717.txt\n",
      "unzipping  Fetal2017US.zip 2017_FET_Analysis_Public_US_20181213T160611.txt\n",
      "unzipping  Nat2001us.zip Nat01pb.US\n",
      "unzipping  Fetal1997US.zip VS97FETL.DETUSPUB\n",
      "unzipping  Fetal2001US.zip VS01FETL.DETUSPUB\n",
      "unzipping  Nat1997us.zip Natl97pb.us\n",
      "unzipping  Nat2000us.zip Natl00us.pb\n",
      "unzipping  Fetal2016US.zip VS16FetalPubUS1302018.txt\n",
      "unzipping  Fetal1996US.zip VS96FETL.DETUSPUB\n"
     ]
    },
    {
     "name": "stderr",
     "output_type": "stream",
     "text": [
      "/home/costas/Documents/github/capstones/natal_env/lib/python3.5/site-packages/ipykernel_launcher.py:36: UserWarning: ('failed unzipping', 'Fetal2016US.zip', 'VS16FetalPubUS1302018.txt')\n"
     ]
    },
    {
     "name": "stdout",
     "output_type": "stream",
     "text": [
      "unzipping  Fetal2000US.zip VS00FETL.DETUSPUB\n",
      "unzipping  Nat2016us.zip Nat2016PublicUS.c20170517.r20190620.txt\n",
      "unzipping  Nat1996us.zip Natl96pb.us\n"
     ]
    },
    {
     "name": "stderr",
     "output_type": "stream",
     "text": [
      "/home/costas/Documents/github/capstones/natal_env/lib/python3.5/site-packages/ipykernel_launcher.py:36: UserWarning: ('failed unzipping', 'Nat2016us.zip', 'Nat2016PublicUS.c20170517.r20190620.txt')\n"
     ]
    },
    {
     "name": "stdout",
     "output_type": "stream",
     "text": [
      "unzipping  Fetal1991US.zip VS91FETL.DETUSPUB\n",
      "unzipping  Fetal2011US.zip VS11Fetal.DetailUSpubfinalupdate.DetailUSpub\n",
      "unzipping  Nat2007us.zip Nat2007us.dat\n",
      "unzipping  Fetal1987US.zip VS87FETL.DETUSPUB\n",
      "unzipping  Nat2011us.zip Nat2011PublicUS.r20131211\n",
      "unzipping  Fetal2007US.zip VS07Fetal.PublicUS\n"
     ]
    },
    {
     "name": "stderr",
     "output_type": "stream",
     "text": [
      "/home/costas/Documents/github/capstones/natal_env/lib/python3.5/site-packages/ipykernel_launcher.py:36: UserWarning: ('failed unzipping', 'Nat2011us.zip', 'Nat2011PublicUS.r20131211')\n"
     ]
    },
    {
     "name": "stdout",
     "output_type": "stream",
     "text": [
      "unzipping  Fetal2016US_COD.zip 2016_FET_Analysis_Public_US_20190409.txt\n",
      "unzipping  Fetal1990US.zip VS90FETL.DETUSPUB\n",
      "unzipping  Nat2006us.zip Nat2006us.dat\n",
      "unzipping  Fetal2017US_COD.zip 2017_FET_Analysis_Public_US_20190219.txt\n",
      "unzipping  Fetal2010US.zip VS10Fetalupdated.Detailuspub.Detailuspub\n",
      "unzipping  Fetal1986US.zip VS86FETL.DETUSPUB\n",
      "unzipping  Fetal2014US_COD.zip Fetal2014US_COD.txt\n",
      "unzipping  Fetal2006US.zip vs06fetal.DETUSPUB\n",
      "unzipping  Nat2010us.zip Nat2010PublicUS.r20131202\n",
      "unzipping  Fetal2015US_COD.zip V15FETALL_US_Public_With_DeathCause.txt\n"
     ]
    },
    {
     "name": "stderr",
     "output_type": "stream",
     "text": [
      "/home/costas/Documents/github/capstones/natal_env/lib/python3.5/site-packages/ipykernel_launcher.py:36: UserWarning: ('failed unzipping', 'Nat2010us.zip', 'Nat2010PublicUS.r20131202')\n"
     ]
    },
    {
     "name": "stdout",
     "output_type": "stream",
     "text": [
      "unzipping  Fetal1993US.zip VS93FETL.DETUSPUB\n",
      "unzipping  Nat2009us.zip Nat2009usPub.r20131202\n",
      "unzipping  Nat2005us.zip Nat2005us.dat\n"
     ]
    },
    {
     "name": "stderr",
     "output_type": "stream",
     "text": [
      "/home/costas/Documents/github/capstones/natal_env/lib/python3.5/site-packages/ipykernel_launcher.py:36: UserWarning: ('failed unzipping', 'Nat2009us.zip', 'Nat2009usPub.r20131202')\n"
     ]
    },
    {
     "name": "stdout",
     "output_type": "stream",
     "text": [
      "unzipping  Fetal2013US.zip VS13FetalDetailPubUS.txt\n",
      "unzipping  Fetal2009US.zip VS09Fetal.Detailuspub.txt\n",
      "unzipping  Fetal1985US.zip VS85FETL.DETUSPUB\n",
      "unzipping  Fetal1989US.zip VS89FETL.DETUSPUB\n",
      "unzipping  Fetal2005US.zip vs05fetl.publicUS\n",
      "unzipping  Nat2013us.zip Nat2013PublicUS.r20141016\n",
      "unzipping  Fetal1992US.zip VS92FETL.DETUSPUB\n"
     ]
    },
    {
     "name": "stderr",
     "output_type": "stream",
     "text": [
      "/home/costas/Documents/github/capstones/natal_env/lib/python3.5/site-packages/ipykernel_launcher.py:36: UserWarning: ('failed unzipping', 'Nat2013us.zip', 'Nat2013PublicUS.r20141016')\n"
     ]
    },
    {
     "name": "stdout",
     "output_type": "stream",
     "text": [
      "unzipping  Nat2008us.zip Nat2008us.dat\n",
      "unzipping  Fetal2012US.zip VS12FetalDetailUSPub.txt\n",
      "unzipping  Nat2004us.zip Nat2004us.dat\n",
      "unzipping  Fetal2008US.zip Fetal2008US.txt\n",
      "unzipping  Fetal1984US.zip VS84FETL.DETUSPUB\n",
      "unzipping  Fetal1988US.zip VS88FETL.DETUSPUB\n",
      "unzipping  Nat2012us.zip Nat2012PublicUS.r20131217\n",
      "unzipping  Fetal2004US.zip VS04FETL.DETUSPUB\n"
     ]
    },
    {
     "name": "stderr",
     "output_type": "stream",
     "text": [
      "/home/costas/Documents/github/capstones/natal_env/lib/python3.5/site-packages/ipykernel_launcher.py:36: UserWarning: ('failed unzipping', 'Nat2012us.zip', 'Nat2012PublicUS.r20131217')\n"
     ]
    }
   ],
   "source": [
    "import zipfile\n",
    "import warnings\n",
    "for f in os.listdir('/mnt/nas/natality'):\n",
    "    if os.path.isdir(os.path.join('/mnt/nas/natality', f)):\n",
    "        continue    \n",
    "    is_dct = False\n",
    "    if f.startswith('Fetal'):\n",
    "        folder = f.split('Fetal')[1].split('US')[0]\n",
    "        year = int(folder)        \n",
    "    elif f.endswith('.dct'):        \n",
    "        folder = f.split('natl')[1].split('.dct')[0]\n",
    "        is_dct = True\n",
    "        year = int(folder)\n",
    "    elif f.startswith('Nat'):\n",
    "        folder = f.split('Nat')[1].split('us')[0]\n",
    "        year = int(folder)\n",
    "    else:\n",
    "        raise Exception(f)\n",
    "    \n",
    "    if not os.path.isdir(os.path.join('/mnt/nas/natality', folder)):\n",
    "        os.mkdir(os.path.join('/mnt/nas/natality', folder))\n",
    "    \n",
    "    if is_dct:\n",
    "        shutil.copy(os.path.join('/mnt/nas/natality', f), os.path.join('/mnt/nas/natality', folder, f))\n",
    "    elif f.lower().endswith('.zip'):        \n",
    "        with zipfile.ZipFile(os.path.join('/mnt/nas/natality', f), 'r') as zip_ref:\n",
    "            for f2 in zip_ref.filelist:\n",
    "                if os.path.isfile(os.path.join('/mnt/nas/natality', folder, f2.filename)):\n",
    "                    print(f2.filename, 'already exists!')\n",
    "                    continue\n",
    "                else:                    \n",
    "                    print('unzipping ', f, f2.filename)\n",
    "                    try:\n",
    "                        zip_ref.extract(f2, os.path.join('/mnt/nas/natality/', folder))            \n",
    "                    except NotImplementedError as e:  \n",
    "                        # try 7z -o{folder} e f\n",
    "                        warnings.warn(str(('failed unzipping', f, f2.filename)))\n",
    "        \n",
    "        \n",
    "    "
   ]
  },
  {
   "cell_type": "code",
   "execution_count": 127,
   "metadata": {},
   "outputs": [
    {
     "data": {
      "text/plain": [
       "'1999'"
      ]
     },
     "execution_count": 127,
     "metadata": {},
     "output_type": "execute_result"
    }
   ],
   "source": []
  }
 ],
 "metadata": {
  "kernelspec": {
   "display_name": "Python 3",
   "language": "python",
   "name": "python3"
  },
  "language_info": {
   "codemirror_mode": {
    "name": "ipython",
    "version": 3
   },
   "file_extension": ".py",
   "mimetype": "text/x-python",
   "name": "python",
   "nbconvert_exporter": "python",
   "pygments_lexer": "ipython3",
   "version": "3.5.2"
  }
 },
 "nbformat": 4,
 "nbformat_minor": 2
}
