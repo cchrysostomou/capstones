{
 "cells": [
  {
   "cell_type": "code",
   "execution_count": 163,
   "metadata": {},
   "outputs": [],
   "source": [
    "import pandas as pd"
   ]
  },
  {
   "cell_type": "code",
   "execution_count": 167,
   "metadata": {},
   "outputs": [],
   "source": [
    "schema = pd.read_csv('/mnt/nas/natality/natality_schema_table.txt', sep='\\t', index_col=0)\n",
    "schema_manual = pd.read_excel('/mnt/nas/natality/schema_notes.xlsx')"
   ]
  },
  {
   "cell_type": "code",
   "execution_count": 53,
   "metadata": {},
   "outputs": [],
   "source": [
    "import os\n",
    "def get_schema_from_year(year):\n",
    "    if not os.path.isdir('/mnt/nas/natality/' + str(year)):\n",
    "        return None\n",
    "    for f in os.listdir('/mnt/nas/natality/' + str(year)):\n",
    "        if f.endswith('.dct'):\n",
    "            column_df, columns, column_widths = read_dct_file(\n",
    "                os.path.join('/mnt/nas/natality/', str(year), f)\n",
    "            )\n",
    "            return column_df, columns, column_widths\n",
    "def decode_baby_col(row):    \n",
    "    row = row.strip()\n",
    "    parent = row.split(')')\n",
    "    start = int(parent[0].split('(')[1].strip())\n",
    "    remaining = ')'.join(parent[1:])\n",
    "    remaining = remaining.strip(' ')\n",
    "    find_format = remaining.split('%')\n",
    "    dtypes_and_name = find_format[0].strip(' ')\n",
    "    types = [t for t in dtypes_and_name.split(' ') if t]\n",
    "    assert len(types) == 2, types\n",
    "    dtype = types[0].strip(' ')\n",
    "    name = types[1].strip(' ')\n",
    "    num_c = int(float(find_format[1].split(' ')[0].strip(' ')[:-1]))\n",
    "    end_of_str = 'f'.join(find_format[1].split('f')[1:])\n",
    "    end_of_str = end_of_str.strip(' \\r\\n')        \n",
    "    return {\n",
    "        'start': start,\n",
    "        'end': start + num_c,\n",
    "        'dtype': dtype,\n",
    "        'name': name,\n",
    "        'desc': end_of_str.strip('\"')\n",
    "    }\n",
    "\n",
    "def read_dct_file(dct):\n",
    "    \"\"\"\n",
    "    read dct file which defines field encoded in main text files\n",
    "    \"\"\"\n",
    "    with open(dct) as r:\n",
    "        chars_to_tab = r.readlines()\n",
    "        col_data = [decode_baby_col(c) for c in chars_to_tab if c.startswith('_column')]\n",
    "        \n",
    "    col_data_df = pd.DataFrame(col_data)\n",
    "    start = 1\n",
    "    columns = []\n",
    "    column_widths = []\n",
    "    for i, c in col_data_df.iterrows():\n",
    "        s = c['start']\n",
    "        e = c['end']\n",
    "        if s != start:\n",
    "            column_widths.append(s - start)\n",
    "            columns.append('blank{0}'.format(i))\n",
    "        columns.append(c['name'])\n",
    "        column_widths.append(e - s)\n",
    "        start = e\n",
    "    return col_data_df, columns, column_widths"
   ]
  },
  {
   "cell_type": "code",
   "execution_count": 106,
   "metadata": {},
   "outputs": [],
   "source": [
    "schema_by_year = {}\n",
    "for c in schema:\n",
    "    tmp = schema[c].dropna()\n",
    "    schema_by_year[c] = {}\n",
    "    for idx, val in tmp.iteritems():        \n",
    "        if val == 'No Desc':\n",
    "            schema_by_year[c][idx] = idx\n",
    "        else:\n",
    "            schema_by_year[c][idx] = val\n",
    "            "
   ]
  },
  {
   "cell_type": "code",
   "execution_count": 110,
   "metadata": {},
   "outputs": [],
   "source": [
    "df = pd.read_csv(\n",
    "    '/mnt/nas/natality/processed/Nat_2018_processed.txt', nrows=10000, sep='\\t',\n",
    "    index_col=0\n",
    ")\n",
    "#df = df.rename(columns=schema_by_year['2018'])"
   ]
  },
  {
   "cell_type": "code",
   "execution_count": 123,
   "metadata": {
    "scrolled": true
   },
   "outputs": [
    {
     "data": {
      "text/plain": [
       "dob_yy          True\n",
       "dob_mm          True\n",
       "dob_tt          True\n",
       "dob_wk          True\n",
       "bfacil          True\n",
       "f_facility      True\n",
       "bfacil3         True\n",
       "mager           True\n",
       "mager14         True\n",
       "mager9          True\n",
       "mbstate_rec     True\n",
       "restatus        True\n",
       "mrace31         True\n",
       "mrace6          True\n",
       "mrace15         True\n",
       "mbrace          True\n",
       "mhisp_r         True\n",
       "f_mhisp         True\n",
       "mracehisp       True\n",
       "mar_p           True\n",
       "dmar            True\n",
       "f_mar_p         True\n",
       "meduc           True\n",
       "f_meduc         True\n",
       "fagecomb        True\n",
       "fagerec11       True\n",
       "frace31         True\n",
       "frace6          True\n",
       "frace15         True\n",
       "fhisp_r         True\n",
       "                ... \n",
       "no_abnorm       True\n",
       "ca_anen         True\n",
       "ca_mnsb         True\n",
       "ca_cchd         True\n",
       "ca_cdh          True\n",
       "ca_omph         True\n",
       "ca_gast         True\n",
       "f_ca_anen       True\n",
       "f_ca_menin      True\n",
       "f_ca_heart      True\n",
       "f_ca_hernia     True\n",
       "f_ca_ompha      True\n",
       "f_ca_gastro     True\n",
       "ca_limb         True\n",
       "ca_cleft        True\n",
       "ca_clpal        True\n",
       "ca_downs        True\n",
       "ca_disor        True\n",
       "ca_hypo         True\n",
       "f_ca_limb       True\n",
       "f_ca_cleftlp    True\n",
       "f_ca_cleft      True\n",
       "f_ca_downs      True\n",
       "f_ca_chrom      True\n",
       "f_ca_hypos      True\n",
       "no_congen       True\n",
       "itran           True\n",
       "ilive           True\n",
       "bfed            True\n",
       "f_bfed          True\n",
       "Length: 214, dtype: bool"
      ]
     },
     "execution_count": 123,
     "metadata": {},
     "output_type": "execute_result"
    }
   ],
   "source": [
    "col_not_null = (df.isnull().sum(axis=0) < 100)\n",
    "col_not_null[col_not_null == True]"
   ]
  },
  {
   "cell_type": "code",
   "execution_count": 159,
   "metadata": {},
   "outputs": [
    {
     "data": {
      "text/plain": [
       "1    7973\n",
       "2    2001\n",
       "3      23\n",
       "4       3\n",
       "Name: restatus, dtype: int64"
      ]
     },
     "execution_count": 159,
     "metadata": {},
     "output_type": "execute_result"
    }
   ],
   "source": [
    "df['restatus'].value_counts()"
   ]
  },
  {
   "cell_type": "code",
   "execution_count": 158,
   "metadata": {},
   "outputs": [
    {
     "data": {
      "text/html": [
       "<div>\n",
       "<style scoped>\n",
       "    .dataframe tbody tr th:only-of-type {\n",
       "        vertical-align: middle;\n",
       "    }\n",
       "\n",
       "    .dataframe tbody tr th {\n",
       "        vertical-align: top;\n",
       "    }\n",
       "\n",
       "    .dataframe thead th {\n",
       "        text-align: right;\n",
       "    }\n",
       "</style>\n",
       "<table border=\"1\" class=\"dataframe\">\n",
       "  <thead>\n",
       "    <tr style=\"text-align: right;\">\n",
       "      <th></th>\n",
       "      <th>bfacil</th>\n",
       "      <th>f_facility</th>\n",
       "      <th>f_tpcv</th>\n",
       "      <th>f_meduc</th>\n",
       "      <th>f_mpcb</th>\n",
       "      <th>f_mhisp</th>\n",
       "      <th>bfacil3</th>\n",
       "    </tr>\n",
       "  </thead>\n",
       "  <tbody>\n",
       "    <tr>\n",
       "      <th>3669</th>\n",
       "      <td>1</td>\n",
       "      <td>0</td>\n",
       "      <td>0</td>\n",
       "      <td>0</td>\n",
       "      <td>0</td>\n",
       "      <td>0</td>\n",
       "      <td>1</td>\n",
       "    </tr>\n",
       "    <tr>\n",
       "      <th>4431</th>\n",
       "      <td>1</td>\n",
       "      <td>0</td>\n",
       "      <td>1</td>\n",
       "      <td>1</td>\n",
       "      <td>1</td>\n",
       "      <td>1</td>\n",
       "      <td>1</td>\n",
       "    </tr>\n",
       "    <tr>\n",
       "      <th>7620</th>\n",
       "      <td>1</td>\n",
       "      <td>0</td>\n",
       "      <td>0</td>\n",
       "      <td>0</td>\n",
       "      <td>0</td>\n",
       "      <td>0</td>\n",
       "      <td>1</td>\n",
       "    </tr>\n",
       "    <tr>\n",
       "      <th>7890</th>\n",
       "      <td>1</td>\n",
       "      <td>0</td>\n",
       "      <td>1</td>\n",
       "      <td>1</td>\n",
       "      <td>1</td>\n",
       "      <td>1</td>\n",
       "      <td>1</td>\n",
       "    </tr>\n",
       "    <tr>\n",
       "      <th>9302</th>\n",
       "      <td>1</td>\n",
       "      <td>0</td>\n",
       "      <td>0</td>\n",
       "      <td>0</td>\n",
       "      <td>0</td>\n",
       "      <td>0</td>\n",
       "      <td>1</td>\n",
       "    </tr>\n",
       "  </tbody>\n",
       "</table>\n",
       "</div>"
      ],
      "text/plain": [
       "      bfacil  f_facility  f_tpcv  f_meduc  f_mpcb  f_mhisp  bfacil3\n",
       "3669       1           0       0        0       0        0        1\n",
       "4431       1           0       1        1       1        1        1\n",
       "7620       1           0       0        0       0        0        1\n",
       "7890       1           0       1        1       1        1        1\n",
       "9302       1           0       0        0       0        0        1"
      ]
     },
     "execution_count": 158,
     "metadata": {},
     "output_type": "execute_result"
    }
   ],
   "source": [
    "df[df['f_facility'] == 0][['bfacil', 'f_facility', 'f_tpcv', 'f_meduc', 'f_mpcb', 'f_mhisp', 'bfacil3']]"
   ]
  },
  {
   "cell_type": "code",
   "execution_count": 153,
   "metadata": {},
   "outputs": [
    {
     "data": {
      "text/plain": [
       "1    9997\n",
       "0       3\n",
       "Name: f_meduc, dtype: int64"
      ]
     },
     "execution_count": 153,
     "metadata": {},
     "output_type": "execute_result"
    }
   ],
   "source": [
    "df['f_mhisp'].value_counts()"
   ]
  },
  {
   "cell_type": "code",
   "execution_count": 138,
   "metadata": {},
   "outputs": [
    {
     "data": {
      "text/plain": [
       "'Reporting Flag for Birth Place 0 Non-Reporting'"
      ]
     },
     "execution_count": 138,
     "metadata": {},
     "output_type": "execute_result"
    }
   ],
   "source": [
    "schema_by_year['2018']['f_facility']"
   ]
  },
  {
   "cell_type": "code",
   "execution_count": 133,
   "metadata": {},
   "outputs": [
    {
     "data": {
      "text/plain": [
       "N    9994\n",
       "Y       6\n",
       "Name: ca_limb, dtype: int64"
      ]
     },
     "execution_count": 133,
     "metadata": {},
     "output_type": "execute_result"
    }
   ],
   "source": [
    "df['ca_limb'].value_counts()"
   ]
  }
 ],
 "metadata": {
  "kernelspec": {
   "display_name": "Python 3",
   "language": "python",
   "name": "python3"
  },
  "language_info": {
   "codemirror_mode": {
    "name": "ipython",
    "version": 3
   },
   "file_extension": ".py",
   "mimetype": "text/x-python",
   "name": "python",
   "nbconvert_exporter": "python",
   "pygments_lexer": "ipython3",
   "version": "3.5.2"
  }
 },
 "nbformat": 4,
 "nbformat_minor": 2
}
